{
 "cells": [
  {
   "cell_type": "markdown",
   "metadata": {},
   "source": [
    "# Boltzmann Wealth Model"
   ]
  },
  {
   "cell_type": "markdown",
   "metadata": {},
   "source": [
    "# Basic Overview\n",
    "\n",
    "The agent based model comes with 2 parts.  The model itself and the individual agents within the model.\n",
    "First, we import the relevant classes from the Mesa module and create an Agent and Model."
   ]
  },
  {
   "cell_type": "code",
   "execution_count": 1,
   "metadata": {
    "collapsed": true
   },
   "outputs": [],
   "source": [
    "from mesa import Model, Agent"
   ]
  },
  {
   "cell_type": "code",
   "execution_count": 2,
   "metadata": {
    "collapsed": false
   },
   "outputs": [],
   "source": [
    "class MoneyAgent(Agent):\n",
    "    \"\"\" An agent with fixed initial wealth.\"\"\"\n",
    "    def __init__(self, unique_id):\n",
    "        # Each agent should have a unique identifier, stored in the unique_id field.\n",
    "        self.unique_id = unique_id\n",
    "        self.wealth = 1"
   ]
  },
  {
   "cell_type": "code",
   "execution_count": 3,
   "metadata": {
    "collapsed": false
   },
   "outputs": [],
   "source": [
    "class MoneyModel(Model):\n",
    "    \"\"\"A model with some number of agents.\"\"\"\n",
    "    def __init__(self, N):\n",
    "        self.num_agents = N\n",
    "        # The scheduler will be added here\n",
    "        self.create_agents()\n",
    "        \n",
    "    def create_agents(self):\n",
    "        \"\"\"Method to create all the agents.\"\"\"\n",
    "        for i in range(self.num_agents):\n",
    "            a = MoneyAgent(i)\n",
    "            # Now what? See below."
   ]
  },
  {
   "cell_type": "markdown",
   "metadata": {},
   "source": [
    "With the classes defined, we can now initialize and create the model and populate it with agents."
   ]
  },
  {
   "cell_type": "code",
   "execution_count": 4,
   "metadata": {
    "collapsed": true
   },
   "outputs": [],
   "source": [
    "money_model = MoneyModel(10)\n",
    "money_model.create_agents()"
   ]
  },
  {
   "cell_type": "markdown",
   "metadata": {},
   "source": [
    "# Scheduler"
   ]
  },
  {
   "cell_type": "markdown",
   "metadata": {},
   "source": [
    "A Schedule defines what each agent will do during each time tick of the simulation.\n",
    "In this example we are using the `RandomActivation` schedule from `mesa.time`.\n",
    "\n",
    "In the `MoneyModel` we need to\n",
    "\n",
    "1.  Create the schedule we would like each agent to use.\n",
    "2.  Add agents to the schedule when they are created\n",
    "3.  Define a model step function that determines what the model will do at each step\n",
    "\n",
    "In the `MoneyAgent` we need to\n",
    "\n",
    "1.  Define a Step function that determines what each agent that is selected during a model step will do."
   ]
  },
  {
   "cell_type": "code",
   "execution_count": 5,
   "metadata": {
    "collapsed": true
   },
   "outputs": [],
   "source": [
    "import random\n",
    "\n",
    "from mesa import Model, Agent\n",
    "from mesa.time import RandomActivation\n",
    "\n",
    "\n",
    "class MoneyAgent(Agent):\n",
    "    \"\"\" An agent with fixed initial wealth.\"\"\"\n",
    "    def __init__(self, unique_id):\n",
    "        self.unique_id = unique_id\n",
    "        self.wealth = 1\n",
    "\n",
    "    def step(self, model):\n",
    "        \"\"\"Give money to another agent.\"\"\"\n",
    "        if self.wealth > 0:\n",
    "            # Pick a random agent\n",
    "            other = random.choice(model.schedule.agents)\n",
    "            # Give them 1 unit money\n",
    "            other.wealth += 1\n",
    "            self.wealth -= 1\n",
    "\n",
    "\n",
    "class MoneyModel(Model):\n",
    "    \"\"\"A model with some number of agents.\"\"\"\n",
    "    def __init__(self, N):\n",
    "        self.num_agents = N\n",
    "        # Adding the scheduler:\n",
    "        # Scheduler needs to be created before agents do\n",
    "        # Scheduler objects are instantiated with their model object,\n",
    "        # which they then pass to the agents at each step.\n",
    "        self.schedule = RandomActivation(self)\n",
    "        self.create_agents()\n",
    "\n",
    "    def create_agents(self):\n",
    "        \"\"\"Method to create all the agents.\"\"\"\n",
    "        for i in range(self.num_agents):\n",
    "            a = MoneyAgent(i)\n",
    "            self.schedule.add(a)\n",
    "\n",
    "    def step(self):\n",
    "        # The scheduler's step method activates the step methods of all the\n",
    "        # agents that have been added to it, in this case in random order.\n",
    "        self.schedule.step()\n",
    "\n",
    "    def run_model(self, steps):\n",
    "        # Because the model has no inherent end conditions,\n",
    "        # the user must specify how many steps to run it for.\n",
    "        for i in range(steps):\n",
    "            self.step()\n"
   ]
  },
  {
   "cell_type": "markdown",
   "metadata": {},
   "source": [
    "With the newly updated code, we can create the model and agents (just like above).\n",
    "Since we defined a schedule, we can now tell the model to run for `n` number of steps, in this example, we picked `5`."
   ]
  },
  {
   "cell_type": "code",
   "execution_count": 6,
   "metadata": {
    "collapsed": false
   },
   "outputs": [],
   "source": [
    "money_model = MoneyModel(10)\n",
    "money_model.create_agents()\n",
    "money_model.run_model(5)"
   ]
  },
  {
   "cell_type": "markdown",
   "metadata": {},
   "source": [
    "# Space"
   ]
  },
  {
   "cell_type": "markdown",
   "metadata": {},
   "source": [
    "In order to assign a location to an agent we need to provide a grid or space to assign coordinates to the agents.\n",
    "We get this from the `mesa.space` module.\n",
    "\n",
    "Since agents have a coordinate, we can also define a `move` method."
   ]
  },
  {
   "cell_type": "code",
   "execution_count": 7,
   "metadata": {
    "collapsed": true
   },
   "outputs": [],
   "source": [
    "import random\n",
    "\n",
    "from mesa import Model, Agent\n",
    "from mesa.time import RandomActivation\n",
    "from mesa.space import MultiGrid\n",
    "\n",
    "\n",
    "class MoneyAgent(Agent):\n",
    "    \"\"\" An agent with fixed initial wealth.\"\"\"\n",
    "    def __init__(self, unique_id):\n",
    "        self.unique_id = unique_id\n",
    "        self.wealth = 1\n",
    "\n",
    "    def step(self, model):\n",
    "        \"\"\"Give money to another agent.\"\"\"\n",
    "        if self.wealth > 0:\n",
    "            # Pick a random agent\n",
    "            other = random.choice(model.schedule.agents)\n",
    "            # Give them 1 unit money\n",
    "            other.wealth += 1\n",
    "            self.wealth -= 1\n",
    "\n",
    "    def move(self, model):\n",
    "        \"\"\"Take a random step.\"\"\"\n",
    "        grid = model.grid\n",
    "        # The get_neighborhood method returns a list of coordinate tuples for\n",
    "        # the appropriate neighbors of the given coordinates. In this case,\n",
    "        # it's getting the Moore neighborhood (including diagonals) and\n",
    "        # includes the center cell. The agent decides where to move by choosing\n",
    "        # one of those tuples at random. This is a good way of handling random\n",
    "        # moves, since it still works for agents on an edge of a non-toroidal\n",
    "        # grid, or if the grid itself is hexagonal.\n",
    "        possible_steps = grid.get_neighborhood(\n",
    "            self.pos, moore=True, include_center=True)\n",
    "        choice = random.choice(possible_steps)\n",
    "        # the move_agent method works like place_agent, but removes the agent\n",
    "        # from its current location before placing it in its new one.\n",
    "        grid.move_agent(self, choice)\n",
    "\n",
    "    def give_money(self, model):\n",
    "        grid = model.grid\n",
    "        pos = [self.pos]\n",
    "        # This is a helper method which returns the contents of the entire list\n",
    "        # of cell tuples provided. It's not strictly necessary here; the\n",
    "        # alternative would be: x, y = self.pos; others = grid[y][x]\n",
    "        # (note that grids are indexed y-first).\n",
    "        others = grid.get_cell_list_contents(pos)\n",
    "        if len(others) > 1:\n",
    "            other = random.choice(others)\n",
    "            other.wealth += 1\n",
    "            self.wealth -= 1\n",
    "\n",
    "\n",
    "class MoneyModel(Model):\n",
    "    \"\"\"A model with some number of agents.\"\"\"\n",
    "    def __init__(self, N, width, height, torus):\n",
    "        # The arguments needed to create a new grid are its\n",
    "        # width, height, and a boolean for whether it is a torus or not.\n",
    "        self.grid = MultiGrid(height, width, torus)\n",
    "        self.num_agents = N\n",
    "        self.schedule = RandomActivation(self)\n",
    "        self.create_agents()\n",
    "\n",
    "    def create_agents(self):\n",
    "        \"\"\"Method to create all the agents.\"\"\"\n",
    "        for i in range(self.num_agents):\n",
    "            a = MoneyAgent(i)\n",
    "            self.schedule.add(a)\n",
    "            x = random.randrange(self.grid.width)\n",
    "            y = random.randrange(self.grid.width)\n",
    "            # The place_agent method places the given object in the grid cell\n",
    "            # specified by the (x, y) tuple, and assigns that tuple to the\n",
    "            # agent's pos property.\n",
    "            self.grid.place_agent(a, (x, y))\n",
    "\n",
    "    def step(self):\n",
    "        # The scheduler's step method activates the step methods of all the\n",
    "        # agents that have been added to it, in this case in random order.\n",
    "        self.schedule.step()\n",
    "\n",
    "    def run_model(self, steps):\n",
    "        # Because the model has no inherent end conditions,\n",
    "        # the user must specify how many steps to run it for.\n",
    "        for i in range(steps):\n",
    "            self.step()\n"
   ]
  },
  {
   "cell_type": "markdown",
   "metadata": {},
   "source": [
    "Here, we create a model with `N` agents, with `with` and `height` of 50."
   ]
  },
  {
   "cell_type": "code",
   "execution_count": 8,
   "metadata": {
    "collapsed": false
   },
   "outputs": [],
   "source": [
    "money_model = MoneyModel(N=100, width=50, height=50, torus=True)\n",
    "money_model.create_agents()\n",
    "money_model.run_model(50)"
   ]
  },
  {
   "cell_type": "markdown",
   "metadata": {},
   "source": [
    "Since our agents are on a coordinate plane, and each agent has a wealth value, we can plot our data!"
   ]
  },
  {
   "cell_type": "code",
   "execution_count": 9,
   "metadata": {
    "collapsed": false
   },
   "outputs": [
    {
     "data": {
      "image/png": "[encoded data removed]",
      "text/plain": [
       "<matplotlib.figure.Figure at 0x106434198>"
      ]
     },
     "metadata": {},
     "output_type": "display_data"
    }
   ],
   "source": [
    "import numpy as np\n",
    "import matplotlib.pyplot as plt\n",
    "%matplotlib inline\n",
    "\n",
    "wealth_grid = np.zeros((money_model.grid.width, money_model.grid.height))\n",
    "\n",
    "for cell in money_model.grid.coord_iter():\n",
    "    cell_content, x, y = cell\n",
    "    cell_wealth = sum(a.wealth for a in cell_content)\n",
    "    wealth_grid[y][x] = cell_wealth\n",
    "    \n",
    "plt.imshow(wealth_grid, interpolation='nearest')\n",
    "plt.show()"
   ]
  },
  {
   "cell_type": "markdown",
   "metadata": {
    "collapsed": true
   },
   "source": [
    "# Data Collection\n",
    "\n",
    "Generic DataCollector class, which can store and export data from most models without needing to be subclassed.\n",
    "\n",
    "The data collector stores three categories of data: model-level variables, agent-level variables, and tables which are a catch-all for everything else.\n",
    "\n",
    "Internally, the data collector stores all variables and tables in Python's standard dictionaries and lists. This reduces the need for external dependencies, and allows the data to be easily exported to JSON or CSV. However, one of the goals of Mesa is facilitating integration with Python's larger scientific and data-analysis ecosystems, and thus the data collector also includes methods for exporting the collected data to pandas data frames. This allows rapid, interactive processing of the data, easy charting, and access to the full range of statistical and machine-learning tools that are compatible with pandas.\n",
    "\n",
    "**Since data is not written out to a file, large simulations cannot be run yet.  A way to append values to a external CSV is being developed so data does not need to be persisted in memory**"
   ]
  },
  {
   "cell_type": "markdown",
   "metadata": {},
   "source": [
    "```python\n",
    "\n",
    "from mesa.datacollection import DataCollector\n",
    "\n",
    "class MoneyModel(Model):\n",
    "\n",
    "  def __init__(self, N):\n",
    "    # ... everything above\n",
    "    ar = {\"Wealth\": lambda a: a.wealth}\n",
    "    self.dc = DataCollector(agent_reporters=ar)\n",
    "\n",
    "  def step(self):\n",
    "    self.dc.collect(self)\n",
    "    self.schedule.step()\n",
    "```"
   ]
  },
  {
   "cell_type": "code",
   "execution_count": 10,
   "metadata": {
    "collapsed": false
   },
   "outputs": [],
   "source": [
    "import random\n",
    "\n",
    "from mesa import Model, Agent\n",
    "from mesa.time import RandomActivation\n",
    "from mesa.space import MultiGrid\n",
    "from mesa.datacollection import DataCollector\n",
    "\n",
    "\n",
    "class MoneyAgent(Agent):\n",
    "    \"\"\" An agent with fixed initial wealth.\"\"\"\n",
    "    def __init__(self, unique_id):\n",
    "        self.unique_id = unique_id\n",
    "        self.wealth = 1\n",
    "\n",
    "    def step(self, model):\n",
    "        \"\"\"Give money to another agent.\"\"\"\n",
    "        if self.wealth > 0:\n",
    "            # Pick a random agent\n",
    "            other = random.choice(model.schedule.agents)\n",
    "            # Give them 1 unit money\n",
    "            other.wealth += 1\n",
    "            self.wealth -= 1\n",
    "\n",
    "    def move(self, model):\n",
    "        \"\"\"Take a random step.\"\"\"\n",
    "        grid = model.grid\n",
    "        # The get_neighborhood method returns a list of coordinate tuples for\n",
    "        # the appropriate neighbors of the given coordinates. In this case,\n",
    "        # it's getting the Moore neighborhood (including diagonals) and\n",
    "        # includes the center cell. The agent decides where to move by choosing\n",
    "        # one of those tuples at random. This is a good way of handling random\n",
    "        # moves, since it still works for agents on an edge of a non-toroidal\n",
    "        # grid, or if the grid itself is hexagonal.\n",
    "        possible_steps = grid.get_neighborhood(\n",
    "            self.pos, moore=True, include_center=True)\n",
    "        choice = random.choice(possible_steps)\n",
    "        # the move_agent method works like place_agent, but removes the agent\n",
    "        # from its current location before placing it in its new one.\n",
    "        grid.move_agent(self, choice)\n",
    "\n",
    "    def give_money(self, model):\n",
    "        grid = model.grid\n",
    "        pos = [self.pos]\n",
    "        # This is a helper method which returns the contents of the entire list\n",
    "        # of cell tuples provided. It's not strictly necessary here; the\n",
    "        # alternative would be: x, y = self.pos; others = grid[y][x]\n",
    "        # (note that grids are indexed y-first).\n",
    "        others = grid.get_cell_list_contents(pos)\n",
    "        if len(others) > 1:\n",
    "            other = random.choice(others)\n",
    "            other.wealth += 1\n",
    "            self.wealth -= 1\n",
    "\n",
    "\n",
    "class MoneyModel(Model):\n",
    "    \"\"\"A model with some number of agents.\"\"\"\n",
    "    def __init__(self, N, width, height, torus):\n",
    "        # The arguments needed to create a new grid are its\n",
    "        # width, height, and a boolean for whether it is a torus or not.\n",
    "        self.grid = MultiGrid(height, width, torus)\n",
    "        self.num_agents = N\n",
    "        self.schedule = RandomActivation(self)\n",
    "        self.create_agents()\n",
    "        ar = {\"Wealth\": lambda a: a.wealth}\n",
    "        self.dc = DataCollector(agent_reporters=ar)\n",
    "\n",
    "    def create_agents(self):\n",
    "        \"\"\"Method to create all the agents.\"\"\"\n",
    "        for i in range(self.num_agents):\n",
    "            a = MoneyAgent(i)\n",
    "            self.schedule.add(a)\n",
    "            x = random.randrange(self.grid.width)\n",
    "            y = random.randrange(self.grid.width)\n",
    "            # The place_agent method places the given object in the grid cell\n",
    "            # specified by the (x, y) tuple, and assigns that tuple to the\n",
    "            # agent's pos property.\n",
    "            self.grid.place_agent(a, (x, y))\n",
    "\n",
    "    def step(self):\n",
    "        # The scheduler's step method activates the step methods of all the\n",
    "        # agents that have been added to it, in this case in random order.\n",
    "        self.schedule.step()\n",
    "        self.dc.collect(self)\n",
    "\n",
    "    def run_model(self, steps):\n",
    "        # Because the model has no inherent end conditions,\n",
    "        # the user must specify how many steps to run it for.\n",
    "        for i in range(steps):\n",
    "            self.step()\n"
   ]
  },
  {
   "cell_type": "code",
   "execution_count": 11,
   "metadata": {
    "collapsed": false
   },
   "outputs": [
    {
     "data": {
      "text/plain": [
       "<matplotlib.axes._subplots.AxesSubplot at 0x1089b4f28>"
      ]
     },
     "execution_count": 11,
     "metadata": {},
     "output_type": "execute_result"
    },
    {
     "data": {
      "image/png": "[encoded data removed]",
      "text/plain": [
       "<matplotlib.figure.Figure at 0x1089b4710>"
      ]
     },
     "metadata": {},
     "output_type": "display_data"
    }
   ],
   "source": [
    "# Create a model with 100 agents\n",
    "model = MoneyModel(100, 10, 10, True)\n",
    "# Run it for 1,000 steps:\n",
    "model.run_model(1000)\n",
    "# Get the data as a DataFrame\n",
    "wealth_history = model.dc.get_agent_vars_dataframe()\n",
    "# wealth_history indexed on Step and AgentID, and...\n",
    "# ...has Wealth as one data column\n",
    "wealth_history.reset_index(inplace=True)\n",
    "# Plot a histogram of final wealth\n",
    "wealth_history[wealth_history.Step==999].\\\n",
    "  Wealth.hist(bins=range(10))"
   ]
  },
  {
   "cell_type": "markdown",
   "metadata": {},
   "source": [
    "# Batch Runner\n",
    "\n",
    "Since most ABMs are stochastic, a single model run gives us only one particular realization of the process the model describes. Furthermore, the questions we want to use ABMs to answer are often about how a particular parameter drives the behavior of the entire system -- requiring multiple model runs with different parameter values. In order to facilitate this, Mesa provides the BatchRunner class. Like the DataCollector, it does not need to be subclassed in order to conduct parameter sweeps on most models."
   ]
  },
  {
   "cell_type": "code",
   "execution_count": 12,
   "metadata": {
    "collapsed": false
   },
   "outputs": [
    {
     "data": {
      "text/plain": [
       "<matplotlib.text.Text at 0x110020e48>"
      ]
     },
     "execution_count": 12,
     "metadata": {},
     "output_type": "execute_result"
    },
    {
     "data": {
      "image/png": "[encoded data removed]",
      "text/plain": [
       "<matplotlib.figure.Figure at 0x11001a128>"
      ]
     },
     "metadata": {},
     "output_type": "display_data"
    }
   ],
   "source": [
    "from mesa.batchrunner import BatchRunner\n",
    "\n",
    "class MoneyAgent(Agent):\n",
    "    \"\"\" An agent with fixed initial wealth.\"\"\"\n",
    "    def __init__(self, unique_id, starting_wealth):\n",
    "        # Each agent should have a unique_id\n",
    "        self.unique_id = unique_id\n",
    "        self.wealth = starting_wealth\n",
    "    \n",
    "    def step(self, model):\n",
    "        \"\"\"Give money to another agent.\"\"\"\n",
    "        if self.wealth > 0:\n",
    "            # Pick a random agent\n",
    "            other = random.choice(model.schedule.agents)\n",
    "            # Give them 1 unit money\n",
    "            other.wealth += 1\n",
    "            self.wealth -= 1\n",
    "\n",
    "class MoneyModel(Model):\n",
    "    \"\"\"A model with some number of agents.\"\"\"\n",
    "    \n",
    "    def __init__(self, N, starting_wealth):\n",
    "        self.running = True\n",
    "        self.num_agents = N\n",
    "        self.starting_wealth = starting_wealth\n",
    "        self.schedule = RandomActivation(self)\n",
    "        self.create_agents()\n",
    "        ar = {\"Wealth\": lambda a: a.wealth}\n",
    "        self.dc = DataCollector(agent_reporters=ar)\n",
    "\n",
    "    def create_agents(self):\n",
    "        \"\"\"Method to create all the agents.\"\"\"\n",
    "        for i in range(self.num_agents):\n",
    "            a = MoneyAgent(i, self.starting_wealth)\n",
    "            self.schedule.add(a)\n",
    "            \n",
    "    def step(self):\n",
    "        self.dc.collect(self)\n",
    "        self.schedule.step()\n",
    "\n",
    "    def run_model(self, steps):\n",
    "        \"\"\"The model has no end condition\n",
    "        so the user needs to specify how long to run\"\"\"\n",
    "        for _ in range(steps):\n",
    "            self.step()\n",
    "\n",
    "def compute_gini(model):\n",
    "    agent_wealths = [agent.wealth for agent in model.schedule.agents]\n",
    "    x = sorted(agent_wealths)\n",
    "    N = model.num_agents\n",
    "    B = sum( xi * (N-i) for i,xi in enumerate(x) ) / (N*sum(x))\n",
    "    return (1 + (1/N) - 2*B)\n",
    "\n",
    "param_values = {\"N\": 100, \"starting_wealth\": range(1,10)}\n",
    "model_reporter={\"Gini\": compute_gini}\n",
    "batch = BatchRunner(MoneyModel, param_values,\n",
    "                  10, 1000, model_reporter)\n",
    "batch.run_all()\n",
    "out = batch.get_model_vars_dataframe()\n",
    "plt.scatter(out.starting_wealth, out.Gini)\n",
    "\n",
    "plt.grid(True)\n",
    "plt.xlabel(\"Starting wealth\")\n",
    "plt.ylabel(\"Gini Coefficient\")"
   ]
  }
 ],
 "metadata": {
  "kernelspec": {
   "display_name": "Python 3",
   "language": "python",
   "name": "python3"
  },
  "language_info": {
   "codemirror_mode": {
    "name": "ipython",
    "version": 3
   },
   "file_extension": ".py",
   "mimetype": "text/x-python",
   "name": "python",
   "nbconvert_exporter": "python",
   "pygments_lexer": "ipython3",
   "version": "3.4.2"
  }
 },
 "nbformat": 4,
 "nbformat_minor": 0
}
